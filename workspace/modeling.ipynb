{
 "cells": [
  {
   "cell_type": "code",
   "execution_count": null,
   "metadata": {},
   "outputs": [],
   "source": [
    "from __future__ import print_function\n",
    "from __future__ import absolute_import\n",
    "\n",
    "%matplotlib inline\n",
    "\n",
    "import numpy\n",
    "import matplotlib.pyplot as plt\n",
    "import pandas"
   ]
  },
  {
   "cell_type": "markdown",
   "metadata": {},
   "source": [
    "# Modeling Exercise\n",
    "\n",
    "This exercise is designed to both help you to learn `git` and `github` as well as some concepts from modeling that will be important.  If you need some ideas take a look at the [course notes](http://github.com/mandli/intro-numerical-methods)."
   ]
  },
  {
   "cell_type": "markdown",
   "metadata": {},
   "source": [
    "## Reading Data\n",
    "\n",
    "Take the data you read in from `get_hydro_data.ipynb` and write a function that read in the stream flow data and precip and returns the data"
   ]
  },
  {
   "cell_type": "code",
   "execution_count": null,
   "metadata": {},
   "outputs": [],
   "source": [
    "def read_streamflow_data(path): \n",
    "    \"\"\"Parse csv file at *path*\n",
    "    \n",
    "    Assumes that there are headers labeled *dateTime* and *X_00060_00000*\n",
    "    \"\"\"\n",
    "    data = pandas.read_csv(path)\n",
    "    return data\n",
    "#     return pandas.read_csv(path, header=0, \n",
    "#                                  usecols=['dateTime', 'X_00060_00000'], \n",
    "#                                  parse_dates=['dateTime'], \n",
    "#                                  dtype={'X_00060_00000':float}, )\n",
    "\n",
    "data = read_streamflow_data(\"./temp_data/streamflow_data.csv\")\n",
    "\n",
    "# Convert data to seconds\n",
    "datetime = pandas.to_datetime(data ['dateTime'].values)\n",
    "data['datetime_pandas'] = datetime\n",
    "data['datetime_fromday0'] = data['datetime_pandas'].values - data['datetime_pandas'].values[0]\n",
    "data['datetime_fromday0_sec'] = data['datetime_fromday0'].apply(lambda x: x.value/10**9)\n",
    "t = data['datetime_fromday0_sec'].values\n",
    "\n",
    "stream_flow = data['X_00060_00000'].values"
   ]
  },
  {
   "cell_type": "markdown",
   "metadata": {},
   "source": [
    "## Plot the Data\n",
    "\n",
    "Now write a function that plots the data you read in from above."
   ]
  },
  {
   "cell_type": "code",
   "execution_count": null,
   "metadata": {},
   "outputs": [],
   "source": [
    "def plot_streamflow_data(x, y, axes=None, plot_format='.'):\n",
    "    \"\"\"\"\"\"\n",
    "    \n",
    "    if axes is None:\n",
    "        fig, axes = plt.subplots(1, 1)\n",
    "        fig.set_figwidth(fig.get_figwidth() * 2)\n",
    "        fig.set_figheight(fig.get_figheight() * 2)\n",
    "    axes.plot(x, y, plot_format)\n",
    "    axes.set_title(\"Stream Flow Data\")\n",
    "    axes.set_xlabel(\"time (s)\")\n",
    "    axes.set_ylabel(r\"Flow $ft^3 / s$\")\n",
    "    return axes\n",
    "    \n",
    "plot_streamflow_data(t, stream_flow)"
   ]
  },
  {
   "cell_type": "markdown",
   "metadata": {},
   "source": [
    "## Make a Model\n",
    "\n",
    "Write a function that takes the data from above and fits a curve to it.  Justify your approach to this problem as well."
   ]
  },
  {
   "cell_type": "markdown",
   "metadata": {},
   "source": []
  },
  {
   "cell_type": "code",
   "execution_count": null,
   "metadata": {},
   "outputs": [],
   "source": [
    "import scipy.interpolate as interpolate\n",
    "\n",
    "def fit_streamflow_data(x, y):\n",
    "    \"\"\"\"\"\"\n",
    "    A = numpy.vander(t, N=5)\n",
    "    p = numpy.linalg.solve(numpy.dot(A.transpose(), A), numpy.dot(A.transpose(), y))\n",
    "    f = lambda t: p[4] + p[3] * t + p[2] * t**2 + p[1] * t**3 + p[0] * t**4\n",
    "    return f\n",
    "    \n",
    "model = fit_streamflow_data(t, stream_flow)\n",
    "axes = plot_streamflow_data(t, stream_flow)\n",
    "plot_streamflow_data(t, model(t), axes=axes, plot_format='k-')\n"
   ]
  },
  {
   "cell_type": "markdown",
   "metadata": {},
   "source": [
    "## Pull It All Together\n",
    "\n",
    "Use all three functions above and make a prediction where there is no data.  Think about where your prediction may be valid or invalid.  Make sure to mention this in your `doc-string`."
   ]
  },
  {
   "cell_type": "code",
   "execution_count": null,
   "metadata": {},
   "outputs": [],
   "source": [
    "def streamflow_prediction(x, y):\n",
    "    \"\"\"\"\"\"\n",
    "    \n",
    "    pass"
   ]
  },
  {
   "cell_type": "markdown",
   "metadata": {},
   "source": [
    "![curve-fitting methods](https://imgs.xkcd.com/comics/curve_fitting.png)"
   ]
  }
 ],
 "metadata": {
  "kernelspec": {
   "display_name": "Python 3",
   "language": "python",
   "name": "python3"
  },
  "language_info": {
   "codemirror_mode": {
    "name": "ipython",
    "version": 3
   },
   "file_extension": ".py",
   "mimetype": "text/x-python",
   "name": "python",
   "nbconvert_exporter": "python",
   "pygments_lexer": "ipython3",
   "version": "3.7.3"
  }
 },
 "nbformat": 4,
 "nbformat_minor": 2
}
